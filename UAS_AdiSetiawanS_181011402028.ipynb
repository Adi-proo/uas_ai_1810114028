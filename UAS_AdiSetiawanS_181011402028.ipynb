{
 "cells": [
  {
   "cell_type": "code",
   "execution_count": 5,
   "id": "5e88078b",
   "metadata": {},
   "outputs": [
    {
     "data": {
      "text/plain": [
       "-1"
      ]
     },
     "execution_count": 5,
     "metadata": {},
     "output_type": "execute_result"
    }
   ],
   "source": [
    "import cv2 \n",
    "import numpy as np \n",
    "\n",
    "img = cv2.imread('jawss.png')\n",
    "newImg = cv2.resize(img, (500, 500))\n",
    "\n",
    "cv2.imshow('Gambar Original', newImg)\n",
    "\n",
    "gray = cv2.cvtColor(img, cv2.COLOR_BGR2GRAY)\n",
    "newGray = cv2.resize(gray, (500, 500))\n",
    "\n",
    "cv2.imshow('Efek Grayscale', newGray)\n",
    "\n",
    "h,w = img.shape[:2]\n",
    "center = (w/2,h/2)\n",
    " \n",
    "rotate = cv2.getRotationMatrix2D(center, 90, 1)\n",
    "rotatingImg = cv2.warpAffine(img,rotate,(w, h))\n",
    "newRotImg = cv2.resize(rotatingImg, (500, 500))\n",
    "\n",
    "cv2.imshow('Efek Rotate 90 Derajat', newRotImg)\n",
    "\n",
    "cv2.waitKey(0)"
   ]
  },
  {
   "cell_type": "code",
   "execution_count": null,
   "id": "2ead81e1",
   "metadata": {},
   "outputs": [],
   "source": []
  }
 ],
 "metadata": {
  "kernelspec": {
   "display_name": "Python 3",
   "language": "python",
   "name": "python3"
  },
  "language_info": {
   "codemirror_mode": {
    "name": "ipython",
    "version": 3
   },
   "file_extension": ".py",
   "mimetype": "text/x-python",
   "name": "python",
   "nbconvert_exporter": "python",
   "pygments_lexer": "ipython3",
   "version": "3.8.8"
  }
 },
 "nbformat": 4,
 "nbformat_minor": 5
}
